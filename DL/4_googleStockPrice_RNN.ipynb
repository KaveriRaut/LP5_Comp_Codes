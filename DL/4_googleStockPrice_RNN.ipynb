{
 "cells": [
  {
   "cell_type": "code",
   "execution_count": 21,
   "id": "811b6b2a",
   "metadata": {},
   "outputs": [],
   "source": [
    "import pandas as pd\n",
    "import numpy as np\n",
    "from sklearn.preprocessing import MinMaxScaler\n",
    "from keras.models import Sequential\n",
    "from keras.layers import Dense, LSTM\n",
    "from sklearn.metrics import mean_absolute_error, mean_squared_error\n",
    "import tensorflow as tf\n",
    "tf.config.run_functions_eagerly(True)"
   ]
  },
  {
   "cell_type": "code",
   "execution_count": 22,
   "id": "a304e51f",
   "metadata": {},
   "outputs": [],
   "source": [
    "# Step 1: Data Preparation\n",
    "data = pd.read_csv('goog.csv')\n",
    "scaler = MinMaxScaler(feature_range=(0, 1))\n",
    "scaled_data = scaler.fit_transform(data['Close'].values.reshape(-1, 1))"
   ]
  },
  {
   "cell_type": "code",
   "execution_count": 23,
   "id": "a4983e02",
   "metadata": {},
   "outputs": [],
   "source": [
    "# Step 2: Dataset Splitting\n",
    "train_data = scaled_data[:int(len(scaled_data) * 0.8)]\n",
    "test_data = scaled_data[int(len(scaled_data) * 0.8):]"
   ]
  },
  {
   "cell_type": "code",
   "execution_count": 24,
   "id": "e4135901",
   "metadata": {},
   "outputs": [],
   "source": [
    "# Step 3: Data Sequencing\n",
    "def create_sequences(data, time_steps=6):\n",
    "    X = []\n",
    "    y = []\n",
    "    for i in range(len(data) - time_steps):\n",
    "        X.append(data[i:i+time_steps, 0])\n",
    "        y.append(data[i+time_steps, 0])\n",
    "    return np.array(X), np.array(y)"
   ]
  },
  {
   "cell_type": "code",
   "execution_count": 25,
   "id": "61cc6211",
   "metadata": {},
   "outputs": [],
   "source": [
    "X_train, y_train = create_sequences(train_data)\n",
    "X_test, y_test = create_sequences(test_data)"
   ]
  },
  {
   "cell_type": "code",
   "execution_count": 26,
   "id": "83a6d129",
   "metadata": {},
   "outputs": [
    {
     "name": "stdout",
     "output_type": "stream",
     "text": [
      "Epoch 1/50\n"
     ]
    },
    {
     "name": "stderr",
     "output_type": "stream",
     "text": [
      "C:\\Users\\Lenovo\\anaconda3\\lib\\site-packages\\tensorflow\\python\\data\\ops\\structured_function.py:258: UserWarning: Even though the `tf.config.experimental_run_functions_eagerly` option is set, this option does not apply to tf.data functions. To force eager execution of tf.data functions, please use `tf.data.experimental.enable_debug_mode()`.\n",
      "  warnings.warn(\n"
     ]
    },
    {
     "name": "stdout",
     "output_type": "stream",
     "text": [
      "11/11 [==============================] - 2s 179ms/step - loss: 0.1714\n",
      "Epoch 2/50\n",
      "11/11 [==============================] - 2s 180ms/step - loss: 0.0364\n",
      "Epoch 3/50\n",
      "11/11 [==============================] - 2s 183ms/step - loss: 0.0279\n",
      "Epoch 4/50\n",
      "11/11 [==============================] - 2s 177ms/step - loss: 0.0262\n",
      "Epoch 5/50\n",
      "11/11 [==============================] - 2s 181ms/step - loss: 0.0235\n",
      "Epoch 6/50\n",
      "11/11 [==============================] - 2s 181ms/step - loss: 0.0253\n",
      "Epoch 7/50\n",
      "11/11 [==============================] - 2s 180ms/step - loss: 0.0235\n",
      "Epoch 8/50\n",
      "11/11 [==============================] - 2s 179ms/step - loss: 0.0246\n",
      "Epoch 9/50\n",
      "11/11 [==============================] - 2s 180ms/step - loss: 0.0226\n",
      "Epoch 10/50\n",
      "11/11 [==============================] - 2s 178ms/step - loss: 0.0237\n",
      "Epoch 11/50\n",
      "11/11 [==============================] - 2s 180ms/step - loss: 0.0239\n",
      "Epoch 12/50\n",
      "11/11 [==============================] - 2s 179ms/step - loss: 0.0243\n",
      "Epoch 13/50\n",
      "11/11 [==============================] - 2s 179ms/step - loss: 0.0232\n",
      "Epoch 14/50\n",
      "11/11 [==============================] - 2s 178ms/step - loss: 0.0232\n",
      "Epoch 15/50\n",
      "11/11 [==============================] - 2s 184ms/step - loss: 0.0225\n",
      "Epoch 16/50\n",
      "11/11 [==============================] - 2s 184ms/step - loss: 0.0228\n",
      "Epoch 17/50\n",
      "11/11 [==============================] - 2s 179ms/step - loss: 0.0228\n",
      "Epoch 18/50\n",
      "11/11 [==============================] - 2s 178ms/step - loss: 0.0231\n",
      "Epoch 19/50\n",
      "11/11 [==============================] - 2s 182ms/step - loss: 0.0212\n",
      "Epoch 20/50\n",
      "11/11 [==============================] - 2s 186ms/step - loss: 0.0217\n",
      "Epoch 21/50\n",
      "11/11 [==============================] - 2s 188ms/step - loss: 0.0233\n",
      "Epoch 22/50\n",
      "11/11 [==============================] - 2s 186ms/step - loss: 0.0238\n",
      "Epoch 23/50\n",
      "11/11 [==============================] - 2s 190ms/step - loss: 0.0197\n",
      "Epoch 24/50\n",
      "11/11 [==============================] - 2s 193ms/step - loss: 0.0201\n",
      "Epoch 25/50\n",
      "11/11 [==============================] - 2s 178ms/step - loss: 0.0195\n",
      "Epoch 26/50\n",
      "11/11 [==============================] - 2s 179ms/step - loss: 0.0191\n",
      "Epoch 27/50\n",
      "11/11 [==============================] - 2s 218ms/step - loss: 0.0194\n",
      "Epoch 28/50\n",
      "11/11 [==============================] - 2s 196ms/step - loss: 0.0188\n",
      "Epoch 29/50\n",
      "11/11 [==============================] - 2s 180ms/step - loss: 0.0189\n",
      "Epoch 30/50\n",
      "11/11 [==============================] - 2s 185ms/step - loss: 0.0173\n",
      "Epoch 31/50\n",
      "11/11 [==============================] - 2s 181ms/step - loss: 0.0189\n",
      "Epoch 32/50\n",
      "11/11 [==============================] - 2s 179ms/step - loss: 0.0190\n",
      "Epoch 33/50\n",
      "11/11 [==============================] - 2s 175ms/step - loss: 0.0167\n",
      "Epoch 34/50\n",
      "11/11 [==============================] - 2s 176ms/step - loss: 0.0170\n",
      "Epoch 35/50\n",
      "11/11 [==============================] - 2s 179ms/step - loss: 0.0184\n",
      "Epoch 36/50\n",
      "11/11 [==============================] - 2s 177ms/step - loss: 0.0171\n",
      "Epoch 37/50\n",
      "11/11 [==============================] - 2s 181ms/step - loss: 0.0165\n",
      "Epoch 38/50\n",
      "11/11 [==============================] - 2s 179ms/step - loss: 0.0134\n",
      "Epoch 39/50\n",
      "11/11 [==============================] - 2s 178ms/step - loss: 0.0183\n",
      "Epoch 40/50\n",
      "11/11 [==============================] - 2s 178ms/step - loss: 0.0152\n",
      "Epoch 41/50\n",
      "11/11 [==============================] - 2s 177ms/step - loss: 0.0161\n",
      "Epoch 42/50\n",
      "11/11 [==============================] - 2s 181ms/step - loss: 0.0129\n",
      "Epoch 43/50\n",
      "11/11 [==============================] - 2s 177ms/step - loss: 0.0151\n",
      "Epoch 44/50\n",
      "11/11 [==============================] - 2s 176ms/step - loss: 0.0137\n",
      "Epoch 45/50\n",
      "11/11 [==============================] - 2s 177ms/step - loss: 0.0112\n",
      "Epoch 46/50\n",
      "11/11 [==============================] - 2s 183ms/step - loss: 0.0130\n",
      "Epoch 47/50\n",
      "11/11 [==============================] - 2s 177ms/step - loss: 0.0126\n",
      "Epoch 48/50\n",
      "11/11 [==============================] - 2s 178ms/step - loss: 0.0112\n",
      "Epoch 49/50\n",
      "11/11 [==============================] - 2s 188ms/step - loss: 0.0105\n",
      "Epoch 50/50\n",
      "11/11 [==============================] - 2s 184ms/step - loss: 0.0109\n"
     ]
    },
    {
     "data": {
      "text/plain": [
       "<keras.src.callbacks.History at 0x19c1ebac550>"
      ]
     },
     "execution_count": 26,
     "metadata": {},
     "output_type": "execute_result"
    }
   ],
   "source": [
    "# Step 4: Model Training\n",
    "model = Sequential()\n",
    "model.add(LSTM(units=50, return_sequences=True, input_shape=(X_train.shape[1], 1)))\n",
    "model.add(LSTM(units=50))\n",
    "model.add(Dense(units=1))\n",
    "model.compile(optimizer='adam', loss='mean_squared_error')\n",
    "model.fit(X_train, y_train, epochs=50, batch_size=4)"
   ]
  },
  {
   "cell_type": "code",
   "execution_count": 27,
   "id": "afc40162",
   "metadata": {},
   "outputs": [
    {
     "name": "stdout",
     "output_type": "stream",
     "text": [
      "1/1 [==============================] - 0s 125ms/step\n"
     ]
    }
   ],
   "source": [
    "# Step 5: Model Evaluation\n",
    "y_pred = model.predict(X_test)\n",
    "y_pred = scaler.inverse_transform(y_pred)\n",
    "y_test = scaler.inverse_transform(y_test.reshape(-1, 1))"
   ]
  },
  {
   "cell_type": "code",
   "execution_count": 28,
   "id": "4131e004",
   "metadata": {},
   "outputs": [
    {
     "name": "stdout",
     "output_type": "stream",
     "text": [
      "MAE:  12.612217431361598\n",
      "MSE:  163.7466303896295\n",
      "RMSE:  12.7963522298204\n"
     ]
    }
   ],
   "source": [
    "mae = mean_absolute_error(y_test, y_pred)\n",
    "mse = mean_squared_error(y_test, y_pred)\n",
    "rmse = np.sqrt(mse)\n",
    "print('MAE: ', mae)\n",
    "print('MSE: ', mse)\n",
    "print('RMSE: ', rmse)"
   ]
  },
  {
   "cell_type": "code",
   "execution_count": 29,
   "id": "32208bd8",
   "metadata": {},
   "outputs": [],
   "source": [
    "# Step 6: Prediction\n",
    "last_6_days = data['Close'][-6:].values\n",
    "last_6_days_scaled = scaler.transform(last_6_days.reshape(-1, 1))\n",
    "X_pred = []\n",
    "X_pred.append(last_6_days_scaled)\n",
    "X_pred = np.array(X_pred)\n",
    "X_pred = np.reshape(X_pred, (X_pred.shape[0], X_pred.shape[1], 1))"
   ]
  },
  {
   "cell_type": "code",
   "execution_count": 30,
   "id": "80ca898f",
   "metadata": {},
   "outputs": [
    {
     "name": "stdout",
     "output_type": "stream",
     "text": [
      "\r",
      "1/1 [==============================] - ETA: 0s"
     ]
    },
    {
     "name": "stderr",
     "output_type": "stream",
     "text": [
      "C:\\Users\\Lenovo\\anaconda3\\lib\\site-packages\\tensorflow\\python\\data\\ops\\structured_function.py:258: UserWarning: Even though the `tf.config.experimental_run_functions_eagerly` option is set, this option does not apply to tf.data functions. To force eager execution of tf.data functions, please use `tf.data.experimental.enable_debug_mode()`.\n",
      "  warnings.warn(\n"
     ]
    },
    {
     "name": "stdout",
     "output_type": "stream",
     "text": [
      "1/1 [==============================] - 0s 123ms/step\n",
      "Predicted price for the next day:  [[836.6522]]\n"
     ]
    }
   ],
   "source": [
    "pred_price = model.predict(X_pred)\n",
    "pred_price = scaler.inverse_transform(pred_price)\n",
    "print('Predicted price for the next day: ', pred_price)"
   ]
  },
  {
   "cell_type": "code",
   "execution_count": 31,
   "id": "ec0612fa",
   "metadata": {},
   "outputs": [
    {
     "data": {
      "image/png": "[encoded data removed]",
      "text/plain": [
       "<Figure size 640x480 with 1 Axes>"
      ]
     },
     "metadata": {},
     "output_type": "display_data"
    }
   ],
   "source": [
    "import matplotlib.pyplot as plt\n",
    "\n",
    "# Plotting the original test data\n",
    "plt.plot(y_test, label='Actual Price')\n",
    "\n",
    "# Plotting the predicted prices\n",
    "plt.plot(y_pred, label='Predicted Price')\n",
    "\n",
    "plt.title('Actual vs Predicted Price')\n",
    "plt.xlabel('Time')\n",
    "plt.ylabel('Price')\n",
    "plt.legend()\n",
    "plt.grid(True)\n",
    "plt.show()"
   ]
  },
  {
   "cell_type": "code",
   "execution_count": null,
   "id": "41f860ae",
   "metadata": {},
   "outputs": [],
   "source": []
  },
  {
   "cell_type": "code",
   "execution_count": null,
   "id": "278e81c2",
   "metadata": {},
   "outputs": [],
   "source": []
  },
  {
   "cell_type": "code",
   "execution_count": null,
   "id": "ba7cff97",
   "metadata": {},
   "outputs": [],
   "source": []
  },
  {
   "cell_type": "code",
   "execution_count": null,
   "id": "0b9b7050",
   "metadata": {},
   "outputs": [],
   "source": []
  }
 ],
 "metadata": {
  "kernelspec": {
   "display_name": "Python 3 (ipykernel)",
   "language": "python",
   "name": "python3"
  },
  "language_info": {
   "codemirror_mode": {
    "name": "ipython",
    "version": 3
   },
   "file_extension": ".py",
   "mimetype": "text/x-python",
   "name": "python",
   "nbconvert_exporter": "python",
   "pygments_lexer": "ipython3",
   "version": "3.10.9"
  }
 },
 "nbformat": 4,
 "nbformat_minor": 5
}
