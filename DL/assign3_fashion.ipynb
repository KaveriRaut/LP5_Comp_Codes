{
 "cells": [
  {
   "cell_type": "code",
   "execution_count": 103,
   "id": "c95e9596",
   "metadata": {},
   "outputs": [],
   "source": [
    "import pandas as pd\n",
    "import numpy as np"
   ]
  },
  {
   "cell_type": "code",
   "execution_count": 104,
   "id": "c4538da0",
   "metadata": {},
   "outputs": [],
   "source": [
    "train_df = pd.read_csv(\"fashion-mnist_train.csv\")\n",
    "test_df = pd.read_csv(\"fashion-mnist_test.csv\")"
   ]
  },
  {
   "cell_type": "code",
   "execution_count": 105,
   "id": "795e0771",
   "metadata": {},
   "outputs": [
    {
     "data": {
      "text/html": [
       "<div>\n",
       "<style scoped>\n",
       "    .dataframe tbody tr th:only-of-type {\n",
       "        vertical-align: middle;\n",
       "    }\n",
       "\n",
       "    .dataframe tbody tr th {\n",
       "        vertical-align: top;\n",
       "    }\n",
       "\n",
       "    .dataframe thead th {\n",
       "        text-align: right;\n",
       "    }\n",
       "</style>\n",
       "<table border=\"1\" class=\"dataframe\">\n",
       "  <thead>\n",
       "    <tr style=\"text-align: right;\">\n",
       "      <th></th>\n",
       "      <th>label</th>\n",
       "      <th>pixel1</th>\n",
       "      <th>pixel2</th>\n",
       "      <th>pixel3</th>\n",
       "      <th>pixel4</th>\n",
       "      <th>pixel5</th>\n",
       "      <th>pixel6</th>\n",
       "      <th>pixel7</th>\n",
       "      <th>pixel8</th>\n",
       "      <th>pixel9</th>\n",
       "      <th>...</th>\n",
       "      <th>pixel775</th>\n",
       "      <th>pixel776</th>\n",
       "      <th>pixel777</th>\n",
       "      <th>pixel778</th>\n",
       "      <th>pixel779</th>\n",
       "      <th>pixel780</th>\n",
       "      <th>pixel781</th>\n",
       "      <th>pixel782</th>\n",
       "      <th>pixel783</th>\n",
       "      <th>pixel784</th>\n",
       "    </tr>\n",
       "  </thead>\n",
       "  <tbody>\n",
       "    <tr>\n",
       "      <th>0</th>\n",
       "      <td>2</td>\n",
       "      <td>0</td>\n",
       "      <td>0</td>\n",
       "      <td>0</td>\n",
       "      <td>0</td>\n",
       "      <td>0</td>\n",
       "      <td>0</td>\n",
       "      <td>0</td>\n",
       "      <td>0</td>\n",
       "      <td>0</td>\n",
       "      <td>...</td>\n",
       "      <td>0</td>\n",
       "      <td>0</td>\n",
       "      <td>0</td>\n",
       "      <td>0</td>\n",
       "      <td>0</td>\n",
       "      <td>0</td>\n",
       "      <td>0</td>\n",
       "      <td>0</td>\n",
       "      <td>0</td>\n",
       "      <td>0</td>\n",
       "    </tr>\n",
       "    <tr>\n",
       "      <th>1</th>\n",
       "      <td>9</td>\n",
       "      <td>0</td>\n",
       "      <td>0</td>\n",
       "      <td>0</td>\n",
       "      <td>0</td>\n",
       "      <td>0</td>\n",
       "      <td>0</td>\n",
       "      <td>0</td>\n",
       "      <td>0</td>\n",
       "      <td>0</td>\n",
       "      <td>...</td>\n",
       "      <td>0</td>\n",
       "      <td>0</td>\n",
       "      <td>0</td>\n",
       "      <td>0</td>\n",
       "      <td>0</td>\n",
       "      <td>0</td>\n",
       "      <td>0</td>\n",
       "      <td>0</td>\n",
       "      <td>0</td>\n",
       "      <td>0</td>\n",
       "    </tr>\n",
       "    <tr>\n",
       "      <th>2</th>\n",
       "      <td>6</td>\n",
       "      <td>0</td>\n",
       "      <td>0</td>\n",
       "      <td>0</td>\n",
       "      <td>0</td>\n",
       "      <td>0</td>\n",
       "      <td>0</td>\n",
       "      <td>0</td>\n",
       "      <td>5</td>\n",
       "      <td>0</td>\n",
       "      <td>...</td>\n",
       "      <td>0</td>\n",
       "      <td>0</td>\n",
       "      <td>0</td>\n",
       "      <td>30</td>\n",
       "      <td>43</td>\n",
       "      <td>0</td>\n",
       "      <td>0</td>\n",
       "      <td>0</td>\n",
       "      <td>0</td>\n",
       "      <td>0</td>\n",
       "    </tr>\n",
       "    <tr>\n",
       "      <th>3</th>\n",
       "      <td>0</td>\n",
       "      <td>0</td>\n",
       "      <td>0</td>\n",
       "      <td>0</td>\n",
       "      <td>1</td>\n",
       "      <td>2</td>\n",
       "      <td>0</td>\n",
       "      <td>0</td>\n",
       "      <td>0</td>\n",
       "      <td>0</td>\n",
       "      <td>...</td>\n",
       "      <td>3</td>\n",
       "      <td>0</td>\n",
       "      <td>0</td>\n",
       "      <td>0</td>\n",
       "      <td>0</td>\n",
       "      <td>1</td>\n",
       "      <td>0</td>\n",
       "      <td>0</td>\n",
       "      <td>0</td>\n",
       "      <td>0</td>\n",
       "    </tr>\n",
       "    <tr>\n",
       "      <th>4</th>\n",
       "      <td>3</td>\n",
       "      <td>0</td>\n",
       "      <td>0</td>\n",
       "      <td>0</td>\n",
       "      <td>0</td>\n",
       "      <td>0</td>\n",
       "      <td>0</td>\n",
       "      <td>0</td>\n",
       "      <td>0</td>\n",
       "      <td>0</td>\n",
       "      <td>...</td>\n",
       "      <td>0</td>\n",
       "      <td>0</td>\n",
       "      <td>0</td>\n",
       "      <td>0</td>\n",
       "      <td>0</td>\n",
       "      <td>0</td>\n",
       "      <td>0</td>\n",
       "      <td>0</td>\n",
       "      <td>0</td>\n",
       "      <td>0</td>\n",
       "    </tr>\n",
       "  </tbody>\n",
       "</table>\n",
       "<p>5 rows × 785 columns</p>\n",
       "</div>"
      ],
      "text/plain": [
       "   label  pixel1  pixel2  pixel3  pixel4  pixel5  pixel6  pixel7  pixel8  \\\n",
       "0      2       0       0       0       0       0       0       0       0   \n",
       "1      9       0       0       0       0       0       0       0       0   \n",
       "2      6       0       0       0       0       0       0       0       5   \n",
       "3      0       0       0       0       1       2       0       0       0   \n",
       "4      3       0       0       0       0       0       0       0       0   \n",
       "\n",
       "   pixel9  ...  pixel775  pixel776  pixel777  pixel778  pixel779  pixel780  \\\n",
       "0       0  ...         0         0         0         0         0         0   \n",
       "1       0  ...         0         0         0         0         0         0   \n",
       "2       0  ...         0         0         0        30        43         0   \n",
       "3       0  ...         3         0         0         0         0         1   \n",
       "4       0  ...         0         0         0         0         0         0   \n",
       "\n",
       "   pixel781  pixel782  pixel783  pixel784  \n",
       "0         0         0         0         0  \n",
       "1         0         0         0         0  \n",
       "2         0         0         0         0  \n",
       "3         0         0         0         0  \n",
       "4         0         0         0         0  \n",
       "\n",
       "[5 rows x 785 columns]"
      ]
     },
     "execution_count": 105,
     "metadata": {},
     "output_type": "execute_result"
    }
   ],
   "source": [
    "train_df.head()\n",
    "# test_df.head()"
   ]
  },
  {
   "cell_type": "code",
   "execution_count": 106,
   "id": "b1cd5a3d",
   "metadata": {},
   "outputs": [
    {
     "data": {
      "text/plain": [
       "Index(['label', 'pixel1', 'pixel2', 'pixel3', 'pixel4', 'pixel5', 'pixel6',\n",
       "       'pixel7', 'pixel8', 'pixel9',\n",
       "       ...\n",
       "       'pixel775', 'pixel776', 'pixel777', 'pixel778', 'pixel779', 'pixel780',\n",
       "       'pixel781', 'pixel782', 'pixel783', 'pixel784'],\n",
       "      dtype='object', length=785)"
      ]
     },
     "execution_count": 106,
     "metadata": {},
     "output_type": "execute_result"
    }
   ],
   "source": [
    "train_df.columns\n",
    "# 'label' -> output image category\n",
    "# all other pixels"
   ]
  },
  {
   "cell_type": "code",
   "execution_count": 107,
   "id": "c6fca7d2",
   "metadata": {},
   "outputs": [],
   "source": [
    "x_train = train_df.drop(columns=[\"label\"])\n",
    "y_train = train_df[\"label\"]\n",
    "#y_train.head()\n",
    "\n",
    "x_test = test_df.drop(columns=[\"label\"])\n",
    "y_test = test_df[[\"label\"]]\n",
    "#y_test.head()"
   ]
  },
  {
   "cell_type": "code",
   "execution_count": 108,
   "id": "438cfe1d",
   "metadata": {},
   "outputs": [],
   "source": [
    "# Normalization: We divide the pixel values by 255.0. This operation scales the pixel values from the original range of 0 to 255\n",
    "# to a new range of 0 to 1. (for faster training, improves the stability, similar scale for all features)\n",
    "# Adding Channel Dimension: CNNs expect input data in a specific format - [batch_size, height, width, channels]. The MNIST \n",
    "# Fashion Dataset contains grayscale images, so they have only one channel. \n",
    "# For grayscale images like those in the MNIST Fashion Dataset, there is only one channel because each pixel contains \n",
    "# only one value representing the intensity of the grayscale\n",
    "\n",
    "# normalizing to scale of (0-1)\n",
    "x_train = x_train.astype('float32') / 255.0\n",
    "x_test = x_test.astype('float32') / 255.0\n",
    "\n",
    "# reshaping the image in (28*28) pixels -> input formate CNN is [batch_size, height, width, channels]\n",
    "x_train = x_train.values.reshape(-1,28,28,1)\n",
    "x_test = x_test.values.reshape(-1,28,28,1)"
   ]
  },
  {
   "cell_type": "markdown",
   "id": "56c21301",
   "metadata": {},
   "source": [
    "### Conv2D -> layers are convolutional layers used for processing spatial data, such as images\n",
    "### MaxPooling2D -> layers perform max pooling, which is used to reduce the spatial dimensions of the input volume. technique used to reduce the size of the input data. helps in reducing the computational complexity of the model by reducing the number of parameters .\n",
    "### Flatten-> used to convert multi-dimensional data into a one-dimensional array,in the context of image processing, used to flatten the output of convolutional layers before passing it to a dense layer for classification."
   ]
  },
  {
   "cell_type": "code",
   "execution_count": 109,
   "id": "b414b257",
   "metadata": {},
   "outputs": [
    {
     "name": "stdout",
     "output_type": "stream",
     "text": [
      "Model: \"sequential_21\"\n",
      "_________________________________________________________________\n",
      " Layer (type)                Output Shape              Param #   \n",
      "=================================================================\n",
      " conv2d_20 (Conv2D)          (None, 26, 26, 64)        640       \n",
      "                                                                 \n",
      " max_pooling2d_18 (MaxPooli  (None, 13, 13, 64)        0         \n",
      " ng2D)                                                           \n",
      "                                                                 \n",
      " flatten_16 (Flatten)        (None, 10816)             0         \n",
      "                                                                 \n",
      " dense_30 (Dense)            (None, 128)               1384576   \n",
      "                                                                 \n",
      " dense_31 (Dense)            (None, 10)                1290      \n",
      "                                                                 \n",
      "=================================================================\n",
      "Total params: 1386506 (5.29 MB)\n",
      "Trainable params: 1386506 (5.29 MB)\n",
      "Non-trainable params: 0 (0.00 Byte)\n",
      "_________________________________________________________________\n"
     ]
    }
   ],
   "source": [
    "from tensorflow.keras.models import Sequential\n",
    "from tensorflow.keras.layers import Dense, Flatten, Conv2D, MaxPooling2D\n",
    "\n",
    "model = Sequential()\n",
    "\n",
    "# 1st layer => Add a 2D convolutional layer with 64 filters, each 3x3, using ReLU activation, with input shape of (28,28,1)\n",
    "model.add(Conv2D(filters=64,kernel_size=(3,3),activation=\"relu\",input_shape=(28,28,1)))\n",
    "\n",
    "# 2nd layer => Add a 2D MaxPooling layer with a pool size of 2x2\n",
    "model.add(MaxPooling2D(pool_size=(2,2)))\n",
    "\n",
    "# 3rd layer => Flatten the 2D output of the previous layer into a 1D array\n",
    "model.add(Flatten())\n",
    "\n",
    "# 4th layer =>\n",
    "model.add(Dense(128, activation=\"relu\"))\n",
    "\n",
    "# 5th layer => 10 category output, softmax activation function-> used for multiclass classification\n",
    "model.add(Dense(10, activation=\"softmax\"))\n",
    "\n",
    "# model compile => for multiclass classification, loss is crossEntropy\n",
    "model.compile(optimizer=\"adam\", loss=\"sparse_categorical_crossentropy\", metrics=[\"accuracy\"])\n",
    "\n",
    "# model summary\n",
    "model.summary()"
   ]
  },
  {
   "cell_type": "code",
   "execution_count": 110,
   "id": "8df0a14e",
   "metadata": {},
   "outputs": [
    {
     "name": "stdout",
     "output_type": "stream",
     "text": [
      "Epoch 1/5\n",
      "1500/1500 [==============================] - 34s 22ms/step - loss: 0.3974 - accuracy: 0.8585 - val_loss: 0.3261 - val_accuracy: 0.8841\n",
      "Epoch 2/5\n",
      "1500/1500 [==============================] - 35s 24ms/step - loss: 0.2685 - accuracy: 0.9030 - val_loss: 0.2658 - val_accuracy: 0.9032\n",
      "Epoch 3/5\n",
      "1500/1500 [==============================] - 38s 25ms/step - loss: 0.2206 - accuracy: 0.9195 - val_loss: 0.2594 - val_accuracy: 0.9087\n",
      "Epoch 4/5\n",
      "1500/1500 [==============================] - 38s 25ms/step - loss: 0.1848 - accuracy: 0.9321 - val_loss: 0.2550 - val_accuracy: 0.9114\n",
      "Epoch 5/5\n",
      "1500/1500 [==============================] - 37s 25ms/step - loss: 0.1532 - accuracy: 0.9443 - val_loss: 0.2590 - val_accuracy: 0.9106\n"
     ]
    },
    {
     "data": {
      "text/plain": [
       "<keras.src.callbacks.History at 0x1e83017cc40>"
      ]
     },
     "execution_count": 110,
     "metadata": {},
     "output_type": "execute_result"
    }
   ],
   "source": [
    "# model fitting\n",
    "model.fit(x_train, y_train, epochs=5, validation_split=0.2, verbose=1)"
   ]
  },
  {
   "cell_type": "code",
   "execution_count": 111,
   "id": "92986884",
   "metadata": {},
   "outputs": [
    {
     "name": "stdout",
     "output_type": "stream",
     "text": [
      "313/313 [==============================] - 2s 7ms/step - loss: 0.2421 - accuracy: 0.9158\n",
      "test loss:  0.24210087954998016\n",
      "test accuracy:  0.9157999753952026\n"
     ]
    }
   ],
   "source": [
    "# model evaluation\n",
    "loss, acc = model.evaluate(x_test, y_test)\n",
    "print(\"test loss: \",loss)\n",
    "print(\"test accuracy: \",acc)"
   ]
  },
  {
   "cell_type": "code",
   "execution_count": 112,
   "id": "6e4dc681",
   "metadata": {},
   "outputs": [
    {
     "name": "stdout",
     "output_type": "stream",
     "text": [
      "1/1 [==============================] - 0s 72ms/step\n",
      "Predicted Item is:  t-shirt\n"
     ]
    },
    {
     "data": {
      "image/png": "[encoded data removed]",
      "text/plain": [
       "<Figure size 640x480 with 1 Axes>"
      ]
     },
     "metadata": {},
     "output_type": "display_data"
    }
   ],
   "source": [
    "import matplotlib.pyplot as plt\n",
    "\n",
    "# make predictions and display result\n",
    "labels = ['t-shirt','trouser','pullover','dress','coat','sandal','shirt','sneakers','bag','ankle boots']\n",
    "prediction = model.predict(x_test[:1])\n",
    "# np.argmax is a NumPy function that returns the index of the maximum value in an array.\n",
    "prediction_label = labels[np.argmax(prediction)]\n",
    "print(\"Predicted Item is: \", prediction_label)\n",
    "\n",
    "# Display the first test image with its predicted label\n",
    "plt.imshow(x_test[0].reshape(28, 28))\n",
    "plt.title(f\"Predicted: {prediction_label}\")\n",
    "plt.show()"
   ]
  },
  {
   "cell_type": "code",
   "execution_count": null,
   "id": "ca0c2a4e",
   "metadata": {},
   "outputs": [],
   "source": []
  },
  {
   "cell_type": "code",
   "execution_count": null,
   "id": "60f04e5f",
   "metadata": {},
   "outputs": [],
   "source": []
  },
  {
   "cell_type": "code",
   "execution_count": null,
   "id": "1e980b6a",
   "metadata": {},
   "outputs": [],
   "source": []
  },
  {
   "cell_type": "code",
   "execution_count": null,
   "id": "3d2c7638",
   "metadata": {},
   "outputs": [],
   "source": []
  },
  {
   "cell_type": "markdown",
   "id": "d41eaf65",
   "metadata": {},
   "source": [
    "What is Classification?\n",
    "Classification is a type of supervised learning in machine learning that involves categorizing data into\n",
    "predefined classes or categories based on a set of features or characteristics. It is used to predict the class\n",
    "of new, unseen data based on the patterns learned from the labeled training data\n",
    "\n",
    "Classification algorithms can vary in complexity, ranging from simple models such as decision trees and\n",
    "k-nearest neighbors to more complex models such as support vector machines and neural networks. The\n",
    "choice of algorithm depends on the nature of the data, the size of the dataset, and the desired level of\n",
    "accuracy and interpretability.\n",
    "\n",
    "What us CNN:\n",
    "Convolutional Neural Networks (CNNs) are commonly used for image classification tasks, and they are\n",
    "designed to automatically learn and extract features from input images. In a typical CNN architecture for image classification, there are several layers, including convolutional\n",
    "layers (Conv2D), pooling layers(MaxPooling2D), and fully connected layers(Dense)\n",
    "\n",
    "MNIST Dataset: \n",
    "The MNIST Fashion dataset is a collection of 70,000 grayscale images of 28x28 pixels, representing 10\n",
    "different categories of clothing and accessories with each category containing 7,000 images. The categories include \n",
    "T-shirts/tops, trousers, pullovers, dresses, coats, sandals, shirts, sneakers, bags, and ankle boots\n",
    "\n",
    "The training set contains 60,000 images, while the test set contains 10,000 images. The goal of\n",
    "the dataset is to accurately classify the images into their respective categories.\n",
    "\n",
    "multiclass classification problem:\n",
    "Here are the general steps to perform Convolutional Neural Network (CNN) on the MNIST Fashion\n",
    "dataset:\n",
    "● Import the necessary libraries, including TensorFlow, Keras, NumPy, and Matplotlib.\n",
    "● Load the dataset using Keras' built-in function, keras.datasets.fashion_mnist.load_data(). This\n",
    "will provide the training and testing sets, which will be used to train and evaluate the CNN.\n",
    "● Preprocess the data by normalizing the pixel values between 0 and 1, and reshaping the images to\n",
    "be of size (28, 28, 1) for compatibility with the CNN.\n",
    "● Define the CNN architecture, including the number and size of filters, activation functions, and\n",
    "pooling layers. This can vary based on the specific problem being addressed.\n",
    "● Compile the model by specifying the loss function, optimizer, and evaluation metrics. Common\n",
    "choices include categorical cross-entropy, Adam optimizer, and accuracy metric.\n",
    "● Train the CNN on the training set using the fit() function, specifying the number of epochs and\n",
    "batch size.\n",
    "● Evaluate the performance of the model on the testing set using the evaluate() function. This will\n",
    "provide metrics such as accuracy and loss on the test set.\n",
    "● Use the trained model to make predictions on new images, if desired, using the predict()\n",
    "function.\n"
   ]
  },
  {
   "cell_type": "code",
   "execution_count": null,
   "id": "a96ab4fe",
   "metadata": {},
   "outputs": [],
   "source": []
  }
 ],
 "metadata": {
  "kernelspec": {
   "display_name": "Python 3 (ipykernel)",
   "language": "python",
   "name": "python3"
  },
  "language_info": {
   "codemirror_mode": {
    "name": "ipython",
    "version": 3
   },
   "file_extension": ".py",
   "mimetype": "text/x-python",
   "name": "python",
   "nbconvert_exporter": "python",
   "pygments_lexer": "ipython3",
   "version": "3.10.9"
  }
 },
 "nbformat": 4,
 "nbformat_minor": 5
}
