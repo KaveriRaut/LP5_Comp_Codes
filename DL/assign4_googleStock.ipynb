{
 "cells": [
  {
   "cell_type": "code",
   "execution_count": 417,
   "id": "7a5ce066",
   "metadata": {},
   "outputs": [],
   "source": [
    "import numpy as np\n",
    "import pandas as pd"
   ]
  },
  {
   "cell_type": "code",
   "execution_count": 418,
   "id": "fdf4f95d",
   "metadata": {},
   "outputs": [
    {
     "data": {
      "text/html": [
       "<div>\n",
       "<style scoped>\n",
       "    .dataframe tbody tr th:only-of-type {\n",
       "        vertical-align: middle;\n",
       "    }\n",
       "\n",
       "    .dataframe tbody tr th {\n",
       "        vertical-align: top;\n",
       "    }\n",
       "\n",
       "    .dataframe thead th {\n",
       "        text-align: right;\n",
       "    }\n",
       "</style>\n",
       "<table border=\"1\" class=\"dataframe\">\n",
       "  <thead>\n",
       "    <tr style=\"text-align: right;\">\n",
       "      <th></th>\n",
       "      <th>Date</th>\n",
       "      <th>Open</th>\n",
       "      <th>High</th>\n",
       "      <th>Low</th>\n",
       "      <th>Close</th>\n",
       "      <th>Volume</th>\n",
       "    </tr>\n",
       "  </thead>\n",
       "  <tbody>\n",
       "    <tr>\n",
       "      <th>0</th>\n",
       "      <td>12/19/2016</td>\n",
       "      <td>790.219971</td>\n",
       "      <td>797.659973</td>\n",
       "      <td>786.270020</td>\n",
       "      <td>794.200012</td>\n",
       "      <td>1225900</td>\n",
       "    </tr>\n",
       "    <tr>\n",
       "      <th>1</th>\n",
       "      <td>12/20/2016</td>\n",
       "      <td>796.760010</td>\n",
       "      <td>798.650024</td>\n",
       "      <td>793.270020</td>\n",
       "      <td>796.419983</td>\n",
       "      <td>925100</td>\n",
       "    </tr>\n",
       "    <tr>\n",
       "      <th>2</th>\n",
       "      <td>12/21/2016</td>\n",
       "      <td>795.840027</td>\n",
       "      <td>796.676025</td>\n",
       "      <td>787.099976</td>\n",
       "      <td>794.559998</td>\n",
       "      <td>1208700</td>\n",
       "    </tr>\n",
       "    <tr>\n",
       "      <th>3</th>\n",
       "      <td>12/22/2016</td>\n",
       "      <td>792.359985</td>\n",
       "      <td>793.320007</td>\n",
       "      <td>788.580017</td>\n",
       "      <td>791.260010</td>\n",
       "      <td>969100</td>\n",
       "    </tr>\n",
       "    <tr>\n",
       "      <th>4</th>\n",
       "      <td>12/23/2016</td>\n",
       "      <td>790.900024</td>\n",
       "      <td>792.739990</td>\n",
       "      <td>787.280029</td>\n",
       "      <td>789.909973</td>\n",
       "      <td>623400</td>\n",
       "    </tr>\n",
       "  </tbody>\n",
       "</table>\n",
       "</div>"
      ],
      "text/plain": [
       "         Date        Open        High         Low       Close   Volume\n",
       "0  12/19/2016  790.219971  797.659973  786.270020  794.200012  1225900\n",
       "1  12/20/2016  796.760010  798.650024  793.270020  796.419983   925100\n",
       "2  12/21/2016  795.840027  796.676025  787.099976  794.559998  1208700\n",
       "3  12/22/2016  792.359985  793.320007  788.580017  791.260010   969100\n",
       "4  12/23/2016  790.900024  792.739990  787.280029  789.909973   623400"
      ]
     },
     "execution_count": 418,
     "metadata": {},
     "output_type": "execute_result"
    }
   ],
   "source": [
    "df = pd.read_csv(\"goog.csv\")\n",
    "df.head()"
   ]
  },
  {
   "cell_type": "markdown",
   "id": "273dfbdd",
   "metadata": {},
   "source": [
    "Date: the date of each trading day.\n",
    "Open: opening price of Google's stock each day\n",
    "High: highest price of Google's stock on each day\n",
    "Low: lowest price of Google's stock on each day\n",
    "Close: closing price of Google's stock on each day\n",
    "Volume: The trading volume, i.e., total number of shares of a stock on each day."
   ]
  },
  {
   "cell_type": "code",
   "execution_count": 419,
   "id": "a68c6d5a",
   "metadata": {},
   "outputs": [
    {
     "data": {
      "text/plain": [
       "Index(['Date', 'Open', 'High', 'Low', 'Close', 'Volume'], dtype='object')"
      ]
     },
     "execution_count": 419,
     "metadata": {},
     "output_type": "execute_result"
    }
   ],
   "source": [
    "df.columns"
   ]
  },
  {
   "cell_type": "code",
   "execution_count": 420,
   "id": "5ceeb087",
   "metadata": {},
   "outputs": [
    {
     "data": {
      "text/plain": [
       "Date       object\n",
       "Open      float64\n",
       "High      float64\n",
       "Low       float64\n",
       "Close     float64\n",
       "Volume      int64\n",
       "dtype: object"
      ]
     },
     "execution_count": 420,
     "metadata": {},
     "output_type": "execute_result"
    }
   ],
   "source": [
    "df.dtypes"
   ]
  },
  {
   "cell_type": "code",
   "execution_count": 421,
   "id": "0130b5f4",
   "metadata": {},
   "outputs": [
    {
     "data": {
      "text/plain": [
       "Date      0\n",
       "Open      0\n",
       "High      0\n",
       "Low       0\n",
       "Close     0\n",
       "Volume    0\n",
       "dtype: int64"
      ]
     },
     "execution_count": 421,
     "metadata": {},
     "output_type": "execute_result"
    }
   ],
   "source": [
    "df.isnull().sum()"
   ]
  },
  {
   "cell_type": "code",
   "execution_count": 422,
   "id": "c2d1b82d",
   "metadata": {},
   "outputs": [
    {
     "data": {
      "text/plain": [
       "0     794.200012\n",
       "1     796.419983\n",
       "2     794.559998\n",
       "3     791.260010\n",
       "4     789.909973\n",
       "         ...    \n",
       "56    845.539978\n",
       "57    845.619995\n",
       "58    847.200012\n",
       "59    848.780029\n",
       "60    852.119995\n",
       "Name: Close, Length: 61, dtype: float64"
      ]
     },
     "execution_count": 422,
     "metadata": {},
     "output_type": "execute_result"
    }
   ],
   "source": [
    "df[\"Close\"]"
   ]
  },
  {
   "cell_type": "code",
   "execution_count": 423,
   "id": "42c44f4b",
   "metadata": {},
   "outputs": [],
   "source": [
    "from sklearn.preprocessing import MinMaxScaler\n",
    "\n",
    "# that the transformed data will be scaled to be between 0 and 1\n",
    "mms = MinMaxScaler(feature_range=(0,1)) \n",
    "\n",
    "# Transform -> df[\"Close\"] data\n",
    "# reshape(-1, 1) is used to reshape the data into a 2D array with one column\n",
    "scaled_df = mms.fit_transform(df[\"Close\"].values.reshape(-1,1)) "
   ]
  },
  {
   "cell_type": "code",
   "execution_count": 424,
   "id": "57204737",
   "metadata": {},
   "outputs": [],
   "source": [
    "# scaled_df"
   ]
  },
  {
   "cell_type": "code",
   "execution_count": 425,
   "id": "4c226f7c",
   "metadata": {},
   "outputs": [],
   "source": [
    "# (y) Dependent Variable: 'Close' price of Google's stock (target variable)\n",
    "\n",
    "# as for time series analysis of such sequential data, we have to split the data in train test in sequennce only as stock \n",
    "# on next day depend on privious day (hence we divide in sequence directly, and not use random_state or etc)\n",
    "\n",
    "# sequential spliting of scaled_df\n",
    "#80% of my scaled_df should be-> training data\n",
    "#20% remaining scaled_df -> testing data\n",
    "split_index = int(len(scaled_df)*0.8)\n",
    "train_data = scaled_df[:split_index]\n",
    "test_data = scaled_df[split_index:]"
   ]
  },
  {
   "cell_type": "code",
   "execution_count": 426,
   "id": "683af5e5",
   "metadata": {},
   "outputs": [
    {
     "data": {
      "text/plain": [
       "48"
      ]
     },
     "execution_count": 426,
     "metadata": {},
     "output_type": "execute_result"
    }
   ],
   "source": [
    "train_data.size"
   ]
  },
  {
   "cell_type": "code",
   "execution_count": 427,
   "id": "15fce8e2",
   "metadata": {},
   "outputs": [
    {
     "data": {
      "text/plain": [
       "13"
      ]
     },
     "execution_count": 427,
     "metadata": {},
     "output_type": "execute_result"
    }
   ],
   "source": [
    "test_data.size"
   ]
  },
  {
   "cell_type": "code",
   "execution_count": 428,
   "id": "fc22604c",
   "metadata": {},
   "outputs": [],
   "source": [
    "#creating 3successive days stocks' price sequence for each row in training dataset\n",
    "def sequence_creation(data, time_stamp=5):\n",
    "    x = [] # prior 5stock price store here\n",
    "    y = [] # next 6th stock price store here\n",
    "    for i in range (len(data)-time_stamp):\n",
    "        x.append( data[i:i+time_stamp, 0] ) #all 5values s ored\n",
    "        y.append( data[i+time_stamp, 0] )   #6th value will store\n",
    "    return np.array(x),np.array(y)"
   ]
  },
  {
   "cell_type": "code",
   "execution_count": 429,
   "id": "955cbe6f",
   "metadata": {},
   "outputs": [],
   "source": [
    "# x_train, y_train"
   ]
  },
  {
   "cell_type": "code",
   "execution_count": 430,
   "id": "991ae333",
   "metadata": {},
   "outputs": [
    {
     "name": "stdout",
     "output_type": "stream",
     "text": [
      "x_train, y_train length\n",
      "43\n",
      "43\n",
      "8\n",
      "8\n"
     ]
    }
   ],
   "source": [
    "x_train, y_train = sequence_creation(train_data)\n",
    "# x_train, y_train\n",
    "x_test, y_test = sequence_creation(test_data)\n",
    "# x_test, y_test\n",
    "\n",
    "print(\"x_train, y_train length\")\n",
    "print(len(x_train))\n",
    "print(len(y_train))\n",
    "print(len(x_test))\n",
    "print(len(y_test))"
   ]
  },
  {
   "cell_type": "code",
   "execution_count": 431,
   "id": "7f974cb4",
   "metadata": {},
   "outputs": [
    {
     "name": "stdout",
     "output_type": "stream",
     "text": [
      "Model: \"sequential_23\"\n",
      "_________________________________________________________________\n",
      " Layer (type)                Output Shape              Param #   \n",
      "=================================================================\n",
      " lstm_40 (LSTM)              (None, 5, 50)             10400     \n",
      "                                                                 \n",
      " lstm_41 (LSTM)              (None, 50)                20200     \n",
      "                                                                 \n",
      " dense_18 (Dense)            (None, 1)                 51        \n",
      "                                                                 \n",
      "=================================================================\n",
      "Total params: 30651 (119.73 KB)\n",
      "Trainable params: 30651 (119.73 KB)\n",
      "Non-trainable params: 0 (0.00 Byte)\n",
      "_________________________________________________________________\n"
     ]
    }
   ],
   "source": [
    "# LSTM RNN model creation\n",
    "# LSTM => each unit or cell is responsible for capturing and remembering patterns in the sequential data. \n",
    "# More units allow the LSTM layer to learn more complex patterns in the data. \n",
    "# return_sequences is set to True, the LSTM layer will return the output for each timestep in the sequence.\n",
    "\n",
    "from tensorflow.keras.models import Sequential\n",
    "from tensorflow.keras.layers import LSTM, Dense\n",
    "\n",
    "model = Sequential()\n",
    "model.add(LSTM(units=50,return_sequences=True, input_shape=(x_train.shape[1],1)))\n",
    "model.add(LSTM(units=50))\n",
    "model.add(Dense(units=1))\n",
    "model.compile(optimizer=\"adam\", loss=\"mean_squared_error\", metrics=[\"mae\"])\n",
    "model.summary()"
   ]
  },
  {
   "cell_type": "code",
   "execution_count": 432,
   "id": "1b8525e6",
   "metadata": {},
   "outputs": [
    {
     "name": "stdout",
     "output_type": "stream",
     "text": [
      "Epoch 1/50\n",
      " 1/11 [=>............................] - ETA: 0s - loss: 0.2769 - mae: 0.4837"
     ]
    },
    {
     "name": "stderr",
     "output_type": "stream",
     "text": [
      "C:\\Users\\Lenovo\\anaconda3\\lib\\site-packages\\tensorflow\\python\\data\\ops\\structured_function.py:258: UserWarning: Even though the `tf.config.experimental_run_functions_eagerly` option is set, this option does not apply to tf.data functions. To force eager execution of tf.data functions, please use `tf.data.experimental.enable_debug_mode()`.\n",
      "  warnings.warn(\n"
     ]
    },
    {
     "name": "stdout",
     "output_type": "stream",
     "text": [
      "11/11 [==============================] - 0s 44ms/step - loss: 0.1471 - mae: 0.3386\n",
      "Epoch 2/50\n",
      "11/11 [==============================] - 0s 45ms/step - loss: 0.0350 - mae: 0.1435\n",
      "Epoch 3/50\n",
      "11/11 [==============================] - 1s 49ms/step - loss: 0.0290 - mae: 0.1345\n",
      "Epoch 4/50\n",
      "11/11 [==============================] - 0s 45ms/step - loss: 0.0246 - mae: 0.1302\n",
      "Epoch 5/50\n",
      "11/11 [==============================] - 0s 45ms/step - loss: 0.0254 - mae: 0.1231\n",
      "Epoch 6/50\n",
      "11/11 [==============================] - 0s 43ms/step - loss: 0.0254 - mae: 0.1322\n",
      "Epoch 7/50\n",
      "11/11 [==============================] - 0s 45ms/step - loss: 0.0216 - mae: 0.1204\n",
      "Epoch 8/50\n",
      "11/11 [==============================] - 0s 42ms/step - loss: 0.0224 - mae: 0.1171\n",
      "Epoch 9/50\n",
      "11/11 [==============================] - 0s 44ms/step - loss: 0.0221 - mae: 0.1166\n",
      "Epoch 10/50\n",
      "11/11 [==============================] - 0s 44ms/step - loss: 0.0216 - mae: 0.1169\n",
      "Epoch 11/50\n",
      "11/11 [==============================] - 0s 41ms/step - loss: 0.0231 - mae: 0.1257\n",
      "Epoch 12/50\n",
      "11/11 [==============================] - 0s 40ms/step - loss: 0.0217 - mae: 0.1181\n",
      "Epoch 13/50\n",
      "11/11 [==============================] - 0s 40ms/step - loss: 0.0209 - mae: 0.1145\n",
      "Epoch 14/50\n",
      "11/11 [==============================] - 0s 40ms/step - loss: 0.0207 - mae: 0.1158\n",
      "Epoch 15/50\n",
      "11/11 [==============================] - 0s 44ms/step - loss: 0.0215 - mae: 0.1140\n",
      "Epoch 16/50\n",
      "11/11 [==============================] - 0s 43ms/step - loss: 0.0208 - mae: 0.1164\n",
      "Epoch 17/50\n",
      "11/11 [==============================] - 0s 42ms/step - loss: 0.0205 - mae: 0.1132\n",
      "Epoch 18/50\n",
      "11/11 [==============================] - 0s 43ms/step - loss: 0.0200 - mae: 0.1115\n",
      "Epoch 19/50\n",
      "11/11 [==============================] - 0s 41ms/step - loss: 0.0205 - mae: 0.1164\n",
      "Epoch 20/50\n",
      "11/11 [==============================] - 0s 42ms/step - loss: 0.0206 - mae: 0.1139\n",
      "Epoch 21/50\n",
      "11/11 [==============================] - 0s 40ms/step - loss: 0.0200 - mae: 0.1110\n",
      "Epoch 22/50\n",
      "11/11 [==============================] - 0s 43ms/step - loss: 0.0195 - mae: 0.1100\n",
      "Epoch 23/50\n",
      "11/11 [==============================] - 0s 43ms/step - loss: 0.0189 - mae: 0.1094\n",
      "Epoch 24/50\n",
      "11/11 [==============================] - 0s 40ms/step - loss: 0.0197 - mae: 0.1140\n",
      "Epoch 25/50\n",
      "11/11 [==============================] - 0s 44ms/step - loss: 0.0182 - mae: 0.1060\n",
      "Epoch 26/50\n",
      "11/11 [==============================] - 0s 42ms/step - loss: 0.0191 - mae: 0.1062\n",
      "Epoch 27/50\n",
      "11/11 [==============================] - 0s 42ms/step - loss: 0.0185 - mae: 0.1078\n",
      "Epoch 28/50\n",
      "11/11 [==============================] - 0s 44ms/step - loss: 0.0183 - mae: 0.1078\n",
      "Epoch 29/50\n",
      "11/11 [==============================] - 0s 40ms/step - loss: 0.0177 - mae: 0.0989\n",
      "Epoch 30/50\n",
      "11/11 [==============================] - 0s 41ms/step - loss: 0.0183 - mae: 0.1088\n",
      "Epoch 31/50\n",
      "11/11 [==============================] - 0s 41ms/step - loss: 0.0182 - mae: 0.1018\n",
      "Epoch 32/50\n",
      "11/11 [==============================] - 0s 40ms/step - loss: 0.0190 - mae: 0.1096\n",
      "Epoch 33/50\n",
      "11/11 [==============================] - 0s 40ms/step - loss: 0.0192 - mae: 0.1026\n",
      "Epoch 34/50\n",
      "11/11 [==============================] - 0s 40ms/step - loss: 0.0159 - mae: 0.1007\n",
      "Epoch 35/50\n",
      "11/11 [==============================] - 0s 41ms/step - loss: 0.0169 - mae: 0.1015\n",
      "Epoch 36/50\n",
      "11/11 [==============================] - 0s 41ms/step - loss: 0.0158 - mae: 0.0971\n",
      "Epoch 37/50\n",
      "11/11 [==============================] - 0s 40ms/step - loss: 0.0154 - mae: 0.0967\n",
      "Epoch 38/50\n",
      "11/11 [==============================] - 0s 40ms/step - loss: 0.0151 - mae: 0.0942\n",
      "Epoch 39/50\n",
      "11/11 [==============================] - 0s 40ms/step - loss: 0.0144 - mae: 0.0921\n",
      "Epoch 40/50\n",
      "11/11 [==============================] - 0s 40ms/step - loss: 0.0143 - mae: 0.0932\n",
      "Epoch 41/50\n",
      "11/11 [==============================] - 0s 40ms/step - loss: 0.0148 - mae: 0.0898\n",
      "Epoch 42/50\n",
      "11/11 [==============================] - 0s 40ms/step - loss: 0.0172 - mae: 0.1070\n",
      "Epoch 43/50\n",
      "11/11 [==============================] - 0s 40ms/step - loss: 0.0146 - mae: 0.0908\n",
      "Epoch 44/50\n",
      "11/11 [==============================] - 0s 40ms/step - loss: 0.0130 - mae: 0.0898\n",
      "Epoch 45/50\n",
      "11/11 [==============================] - 0s 40ms/step - loss: 0.0118 - mae: 0.0826\n",
      "Epoch 46/50\n",
      "11/11 [==============================] - 0s 40ms/step - loss: 0.0114 - mae: 0.0778\n",
      "Epoch 47/50\n",
      "11/11 [==============================] - 0s 40ms/step - loss: 0.0112 - mae: 0.0785\n",
      "Epoch 48/50\n",
      "11/11 [==============================] - 0s 40ms/step - loss: 0.0111 - mae: 0.0799\n",
      "Epoch 49/50\n",
      "11/11 [==============================] - 0s 41ms/step - loss: 0.0096 - mae: 0.0713\n",
      "Epoch 50/50\n",
      "11/11 [==============================] - 0s 41ms/step - loss: 0.0105 - mae: 0.0722\n"
     ]
    },
    {
     "data": {
      "text/plain": [
       "<keras.src.callbacks.History at 0x225bd4f7dc0>"
      ]
     },
     "execution_count": 432,
     "metadata": {},
     "output_type": "execute_result"
    }
   ],
   "source": [
    "model.fit(x_train,y_train,epochs=50,batch_size=4,verbose=1) #batch_size=4"
   ]
  },
  {
   "cell_type": "code",
   "execution_count": 433,
   "id": "4d7d00c3",
   "metadata": {},
   "outputs": [
    {
     "name": "stdout",
     "output_type": "stream",
     "text": [
      "1/1 [==============================] - 0s 31ms/step\n"
     ]
    }
   ],
   "source": [
    "y_predict = model.predict(x_test)\n",
    "# transform back\n",
    "y_predict = mms.inverse_transform(y_predict)\n",
    "y_test = mms.inverse_transform(y_test.reshape(-1,1))\n"
   ]
  },
  {
   "cell_type": "markdown",
   "id": "d824cb60",
   "metadata": {},
   "source": [
    "### Evaluation "
   ]
  },
  {
   "cell_type": "code",
   "execution_count": 434,
   "id": "dd3b124c",
   "metadata": {},
   "outputs": [
    {
     "name": "stdout",
     "output_type": "stream",
     "text": [
      "MAE:  12.523612906249994\n",
      "MSE:  160.92441193263943\n",
      "RMSE:  12.685598603638672\n"
     ]
    }
   ],
   "source": [
    "from sklearn.metrics import mean_squared_error, mean_absolute_error\n",
    "\n",
    "mae = mean_absolute_error(y_test,y_predict)\n",
    "mse = mean_squared_error(y_test,y_predict)\n",
    "rmse = np.sqrt(mse)\n",
    "\n",
    "print('MAE: ', mae)\n",
    "print('MSE: ', mse)\n",
    "print('RMSE: ', rmse)"
   ]
  },
  {
   "cell_type": "code",
   "execution_count": 435,
   "id": "937bf4b2",
   "metadata": {},
   "outputs": [],
   "source": [
    "# y_test,y_predict"
   ]
  },
  {
   "cell_type": "code",
   "execution_count": 436,
   "id": "57ec7e72",
   "metadata": {},
   "outputs": [],
   "source": [
    "# x_train, y_train"
   ]
  },
  {
   "cell_type": "markdown",
   "id": "a084c24e",
   "metadata": {},
   "source": [
    "### Prediction: we will use Test dataset record to check prediction value (record no. 4)"
   ]
  },
  {
   "cell_type": "code",
   "execution_count": 437,
   "id": "00b5eee7",
   "metadata": {},
   "outputs": [
    {
     "data": {
      "text/plain": [
       "array([0.74831849, 0.79140719, 0.8326276 , 0.88953927, 0.91805706])"
      ]
     },
     "execution_count": 437,
     "metadata": {},
     "output_type": "execute_result"
    }
   ],
   "source": [
    "test_row = x_test[4]\n",
    "test_row"
   ]
  },
  {
   "cell_type": "code",
   "execution_count": 438,
   "id": "6571378f",
   "metadata": {},
   "outputs": [],
   "source": [
    "# LSTM layer expects input data in a 3-dimensional shape (batch_size, time_steps, features)\n",
    "x_sample = test_row.reshape(1, test_row.shape[0], 1)"
   ]
  },
  {
   "cell_type": "code",
   "execution_count": 441,
   "id": "be34e4dc",
   "metadata": {},
   "outputs": [
    {
     "data": {
      "text/plain": [
       "array([845.619995])"
      ]
     },
     "execution_count": 441,
     "metadata": {},
     "output_type": "execute_result"
    }
   ],
   "source": [
    "y_test[4]"
   ]
  },
  {
   "cell_type": "code",
   "execution_count": 439,
   "id": "74582bb7",
   "metadata": {},
   "outputs": [
    {
     "name": "stdout",
     "output_type": "stream",
     "text": [
      "1/1 [==============================] - 0s 29ms/step\n",
      "Predicted price for the next day:  [[835.5566]]\n"
     ]
    },
    {
     "name": "stderr",
     "output_type": "stream",
     "text": [
      "C:\\Users\\Lenovo\\anaconda3\\lib\\site-packages\\tensorflow\\python\\data\\ops\\structured_function.py:258: UserWarning: Even though the `tf.config.experimental_run_functions_eagerly` option is set, this option does not apply to tf.data functions. To force eager execution of tf.data functions, please use `tf.data.experimental.enable_debug_mode()`.\n",
      "  warnings.warn(\n"
     ]
    }
   ],
   "source": [
    "predicted_price = model.predict(x_sample)\n",
    "predicted_price = mms.inverse_transform(predicted_price)\n",
    "print('Predicted price for the next day: ', predicted_price)"
   ]
  },
  {
   "cell_type": "markdown",
   "id": "7be80ece",
   "metadata": {},
   "source": [
    "### Time series Graph"
   ]
  },
  {
   "cell_type": "code",
   "execution_count": 440,
   "id": "3595291a",
   "metadata": {},
   "outputs": [
    {
     "data": {
      "image/png": "[encoded data removed]",
      "text/plain": [
       "<Figure size 640x480 with 1 Axes>"
      ]
     },
     "metadata": {},
     "output_type": "display_data"
    }
   ],
   "source": [
    "import matplotlib.pyplot as plt\n",
    "\n",
    "# Plotting the original test data\n",
    "plt.plot(y_test, label='Actual Price')\n",
    "\n",
    "# Plotting the predicted prices\n",
    "plt.plot(y_predict, label='Predicted Price')\n",
    "\n",
    "plt.title('Actual vs Predicted Price')\n",
    "plt.xlabel('Time')\n",
    "plt.ylabel('Price')\n",
    "plt.legend()\n",
    "plt.grid(True)\n",
    "plt.show()"
   ]
  },
  {
   "cell_type": "code",
   "execution_count": null,
   "id": "676bb720",
   "metadata": {},
   "outputs": [],
   "source": []
  },
  {
   "cell_type": "code",
   "execution_count": null,
   "id": "78453d3a",
   "metadata": {},
   "outputs": [],
   "source": []
  }
 ],
 "metadata": {
  "kernelspec": {
   "display_name": "Python 3 (ipykernel)",
   "language": "python",
   "name": "python3"
  },
  "language_info": {
   "codemirror_mode": {
    "name": "ipython",
    "version": 3
   },
   "file_extension": ".py",
   "mimetype": "text/x-python",
   "name": "python",
   "nbconvert_exporter": "python",
   "pygments_lexer": "ipython3",
   "version": "3.10.9"
  }
 },
 "nbformat": 4,
 "nbformat_minor": 5
}
